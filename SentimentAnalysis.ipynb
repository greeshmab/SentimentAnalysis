{
  "nbformat": 4,
  "nbformat_minor": 0,
  "metadata": {
    "colab": {
      "name": "SentimentAnalysis.ipynb",
      "provenance": []
    },
    "kernelspec": {
      "name": "python3",
      "display_name": "Python 3"
    }
  },
  "cells": [
    {
      "cell_type": "code",
      "metadata": {
        "id": "d8FQrX_GQ9KA",
        "colab_type": "code",
        "outputId": "5bd35e93-832d-4f14-9bf6-bea2fdb1d983",
        "colab": {
          "base_uri": "https://localhost:8080/",
          "height": 122
        }
      },
      "source": [
        "from google.colab import drive\n",
        "drive.mount('/content/drive')"
      ],
      "execution_count": 0,
      "outputs": [
        {
          "output_type": "stream",
          "text": [
            "Go to this URL in a browser: https://accounts.google.com/o/oauth2/auth?client_id=947318989803-6bn6qk8qdgf4n4g3pfee6491hc0brc4i.apps.googleusercontent.com&redirect_uri=urn%3aietf%3awg%3aoauth%3a2.0%3aoob&response_type=code&scope=email%20https%3a%2f%2fwww.googleapis.com%2fauth%2fdocs.test%20https%3a%2f%2fwww.googleapis.com%2fauth%2fdrive%20https%3a%2f%2fwww.googleapis.com%2fauth%2fdrive.photos.readonly%20https%3a%2f%2fwww.googleapis.com%2fauth%2fpeopleapi.readonly\n",
            "\n",
            "Enter your authorization code:\n",
            "··········\n",
            "Mounted at /content/drive\n"
          ],
          "name": "stdout"
        }
      ]
    },
    {
      "cell_type": "code",
      "metadata": {
        "id": "qPrMrjMqCNLx",
        "colab_type": "code",
        "outputId": "c4518149-dae6-4e14-9042-cc9662d1a164",
        "colab": {
          "base_uri": "https://localhost:8080/",
          "height": 1000
        }
      },
      "source": [
        "#Scrapper \n",
        "#Uses BeautifulSoup : Python library designed for quick turnaround projects like screen-scraping. Three features make it powerful:\n",
        "\n",
        "import re\n",
        "import csv \n",
        "import pickle\n",
        "import time\n",
        "import pprint\n",
        "from collections import Counter\n",
        "from urllib.request import urlopen\n",
        "from datetime import datetime, timedelta\n",
        "from bs4 import BeautifulSoup\n",
        "import pandas as pd\n",
        "\n",
        "#scrapes data from given URL \n",
        "#returns dictionary with key as date and \n",
        "#value as the article\n",
        "def scrapper(keyword, URL):\n",
        "  date_sentiments = {}\n",
        "  article_text = {}\n",
        "  counter = 1\n",
        "  for i in range(1,9):\n",
        "    page = urlopen(URL+keyword+'\\?page='+str(i)).read()\n",
        "    soup = BeautifulSoup(page, features='html.parser')\n",
        "    posts = soup.findAll(\"div\", {\"class\":\"media-body\"})\n",
        "    for post in posts: \n",
        "      time.sleep(1)\n",
        "      url = post.a['href']\n",
        "      date = post.time.text\n",
        "      print(\"Article count:\", counter)\n",
        "      print(\"Date:\", date)\n",
        "      print(\"URL: \", url[:100]+'...')\n",
        "      counter += 1\n",
        "      try:\n",
        "        link_page = urlopen(url).read()\n",
        "      except:\n",
        "        url = url[:-2]\n",
        "        link_page = urlopen(url).read()\n",
        "      link_soup = BeautifulSoup(link_page)\n",
        "      sentences = link_soup.findAll('p')\n",
        "      passage = \"\"\n",
        "      for sentence in sentences:\n",
        "        passage += sentence.text\n",
        "      article_text.setdefault(date, []).append(passage)\n",
        "      if(counter>=10):\n",
        "        break\n",
        "  articles = {}\n",
        "  for k,v in article_text.items():\n",
        "    articles[datetime.strptime(k, '%d %b %Y').date()+ timedelta(days=1)] = v\n",
        "\n",
        "  return articles\n",
        "\n",
        "URL = 'https://www.businesstimes.com.sg/search/'\n",
        "articles = scrapper(\"shell\", URL)\n",
        "\n",
        "\n",
        "# convert dict into pandas dataframe\n",
        "# deal with articles that appear on same date\n",
        "df = pd.DataFrame.from_dict(articles, columns=['1','2'], orient='index')\n",
        "df['content'] = df['1']+' '+ df['2'].fillna('')\n",
        "df.drop(columns=['1','2'], inplace=True)\n"
      ],
      "execution_count": 0,
      "outputs": [
        {
          "output_type": "stream",
          "text": [
            "Article count: 1\n",
            "Date: 02 Nov 2019\n",
            "URL:  https://www.businesstimes.com.sg/companies-markets/sembmarine-bags-job-on-shell-floating-production-...\n",
            "Article count: 2\n",
            "Date: 01 Nov 2019\n",
            "URL:  https://www.businesstimes.com.sg/companies-markets/sembmarine-bags-shells-floating-production-unit-c...\n",
            "Article count: 3\n",
            "Date: 01 Nov 2019\n",
            "URL:  https://www.businesstimes.com.sg/energy-commodities/shell-warns-of-weak-economic-outlook-despite-bum...\n",
            "Article count: 4\n",
            "Date: 29 Oct 2019\n",
            "URL:  https://www.businesstimes.com.sg/energy-commodities/shell-reports-disruption-at-singapore-refinery-p...\n",
            "Article count: 5\n",
            "Date: 23 Oct 2019\n",
            "URL:  https://www.businesstimes.com.sg/government-economy/us-house-approves-bill-exposing-shell-company-ow...\n",
            "Article count: 6\n",
            "Date: 15 Oct 2019\n",
            "URL:  https://www.businesstimes.com.sg/government-economy/gic-kkr-shell-out-35b-pesos-for-425-stake-in-big...\n",
            "Article count: 7\n",
            "Date: 05 Oct 2019\n",
            "URL:  https://www.businesstimes.com.sg/energy-commodities/chevron-buys-40-stake-in-three-mexico-deepwater-...\n",
            "Article count: 8\n",
            "Date: 19 Sep 2019\n",
            "URL:  https://www.businesstimes.com.sg/energy-commodities/shell-loads-first-lsfo-cargo-from-singapore-refi...\n",
            "Article count: 9\n",
            "Date: 22 Aug 2019\n",
            "URL:  https://www.businesstimes.com.sg/transport/shell-ba-planning-eus-first-waste-to-jet-fuel-plant...\n",
            "Article count: 10\n",
            "Date: 19 Aug 2019\n",
            "URL:  https://www.businesstimes.com.sg/transport/shell-launches-singapores-first-electric-vehicle-charging...\n",
            "Article count: 11\n",
            "Date: 21 May 2019\n",
            "URL:  https://www.businesstimes.com.sg/energy-commodities/activists-demand-end-of-shell-fossil-fuel-at-sha...\n",
            "Article count: 12\n",
            "Date: 15 Mar 2019\n",
            "URL:  https://www.businesstimes.com.sg/energy-commodities/shell-sets-its-first-carbon-reduction-targets-on...\n",
            "Article count: 13\n",
            "Date: 21 Dec 2018\n",
            "URL:  https://www.businesstimes.com.sg/energy-commodities/shell-quietly-enters-japanese%C2%A0-market...\n",
            "Article count: 14\n",
            "Date: 04 Oct 2018\n",
            "URL:  https://www.businesstimes.com.sg/energy-commodities/looming-large-shells-lng-canada-seen-as-tip-of-m...\n",
            "Article count: 15\n",
            "Date: 10 Jul 2018\n",
            "URL:  https://www.businesstimes.com.sg/energy-commodities/japanese-refiner-idemitsu-wins-family-backing-fo...\n",
            "Article count: 16\n",
            "Date: 05 Mar 2018\n",
            "URL:  http://www.businesstimes.com.sg/energy-commodities/eni-and-shell-go-on-trial-over-nigeria-kickback-s...\n"
          ],
          "name": "stdout"
        },
        {
          "output_type": "error",
          "ename": "OSError",
          "evalue": "ignored",
          "traceback": [
            "\u001b[0;31m---------------------------------------------------------------------------\u001b[0m",
            "\u001b[0;31mOSError\u001b[0m                                   Traceback (most recent call last)",
            "\u001b[0;32m<ipython-input-4-b78f047db104>\u001b[0m in \u001b[0;36m<module>\u001b[0;34m()\u001b[0m\n\u001b[1;32m     60\u001b[0m \u001b[0;34m\u001b[0m\u001b[0m\n\u001b[1;32m     61\u001b[0m \u001b[0;31m# pickles dataframe and saves it in a data folder\u001b[0m\u001b[0;34m\u001b[0m\u001b[0;34m\u001b[0m\u001b[0;34m\u001b[0m\u001b[0m\n\u001b[0;32m---> 62\u001b[0;31m \u001b[0mf\u001b[0m \u001b[0;34m=\u001b[0m \u001b[0mopen\u001b[0m\u001b[0;34m(\u001b[0m\u001b[0;34m'/content/drive/df.pkl'\u001b[0m\u001b[0;34m,\u001b[0m \u001b[0;34m'wb'\u001b[0m\u001b[0;34m)\u001b[0m\u001b[0;34m\u001b[0m\u001b[0;34m\u001b[0m\u001b[0m\n\u001b[0m\u001b[1;32m     63\u001b[0m \u001b[0mpickle\u001b[0m\u001b[0;34m.\u001b[0m\u001b[0mdump\u001b[0m\u001b[0;34m(\u001b[0m\u001b[0mdf\u001b[0m\u001b[0;34m,\u001b[0m \u001b[0mf\u001b[0m\u001b[0;34m)\u001b[0m\u001b[0;34m\u001b[0m\u001b[0;34m\u001b[0m\u001b[0m\n\u001b[1;32m     64\u001b[0m \u001b[0mf\u001b[0m\u001b[0;34m.\u001b[0m\u001b[0mclose\u001b[0m\u001b[0;34m(\u001b[0m\u001b[0;34m)\u001b[0m\u001b[0;34m\u001b[0m\u001b[0;34m\u001b[0m\u001b[0m\n",
            "\u001b[0;31mOSError\u001b[0m: [Errno 95] Operation not supported: '/content/drive/df.pkl'"
          ]
        }
      ]
    },
    {
      "cell_type": "code",
      "metadata": {
        "id": "mfYz8WC9OeXG",
        "colab_type": "code",
        "colab": {}
      },
      "source": [
        "# pickles dataframe and saves it in a data folder\n",
        "f = open('/content/df.pkl', 'wb')\n",
        "pickle.dump(df, f)\n",
        "f.close()"
      ],
      "execution_count": 0,
      "outputs": []
    },
    {
      "cell_type": "markdown",
      "metadata": {
        "id": "G_Gztc8QQ4Fv",
        "colab_type": "text"
      },
      "source": [
        "# Natural Language Processing Pipeline\n",
        "\n",
        " **Tokenisation**\n",
        " we use spaCy’s standard here, which is very advanced but also pragmatic. \n",
        "\n",
        " **Lemmatisation**\n",
        " fancy expression for converting a word to its root. Because spaCy can also remove very common words — called stop-words — which often convey very little meaning (e.g. “on”, that”, “it” etc). So we not only lemmatised the tokens, but also performed stop-word removal.\n",
        " SpaCy can also extract noun chunks, i.e. expressions and common phrases that have a different or additional meaning when they occur together. \n",
        "\n",
        " **Text** → **sentences**\n",
        " spaCy to split a body of text into sentences. \n",
        "\n"
      ]
    },
    {
      "cell_type": "code",
      "metadata": {
        "id": "wxuQjTFUrNRp",
        "colab_type": "code",
        "outputId": "4e879734-6eb7-4834-aad4-8787fc508b74",
        "colab": {
          "base_uri": "https://localhost:8080/",
          "height": 241
        }
      },
      "source": [
        "!python -m spacy download en_core_web_lg"
      ],
      "execution_count": 0,
      "outputs": [
        {
          "output_type": "stream",
          "text": [
            "Collecting en_core_web_lg==2.1.0\n",
            "\u001b[?25l  Downloading https://github.com/explosion/spacy-models/releases/download/en_core_web_lg-2.1.0/en_core_web_lg-2.1.0.tar.gz (826.9MB)\n",
            "\u001b[K     |████████████████████████████████| 826.9MB 147.3MB/s \n",
            "\u001b[?25hBuilding wheels for collected packages: en-core-web-lg\n",
            "  Building wheel for en-core-web-lg (setup.py) ... \u001b[?25l\u001b[?25hdone\n",
            "  Created wheel for en-core-web-lg: filename=en_core_web_lg-2.1.0-cp36-none-any.whl size=828255076 sha256=6a4d2161a3d2de4e3447aa0586a93f39084443b2151cb3a40433a2094063c0bc\n",
            "  Stored in directory: /tmp/pip-ephem-wheel-cache-b20qc9ut/wheels/b4/d7/70/426d313a459f82ed5e06cc36a50e2bb2f0ec5cb31d8e0bdf09\n",
            "Successfully built en-core-web-lg\n",
            "Installing collected packages: en-core-web-lg\n",
            "Successfully installed en-core-web-lg-2.1.0\n",
            "\u001b[38;5;2m✔ Download and installation successful\u001b[0m\n",
            "You can now load the model via spacy.load('en_core_web_lg')\n"
          ],
          "name": "stdout"
        }
      ]
    },
    {
      "cell_type": "code",
      "metadata": {
        "id": "PpIG66HWRkbM",
        "colab_type": "code",
        "outputId": "01794463-3173-4c5e-a49c-05c9980b7e53",
        "colab": {
          "base_uri": "https://localhost:8080/",
          "height": 71
        }
      },
      "source": [
        "import spacy\n",
        "import en_core_web_lg\n",
        "spacy_nlp = en_core_web_lg.load()\n",
        "from spacy import displacy\n",
        "from spacy.lang.en.stop_words import STOP_WORDS\n",
        "spacy.prefer_gpu()\n",
        "\n",
        "import matplotlib.pyplot as plt\n",
        "import seaborn as sns\n",
        "\n",
        "# NLP pipeline components\n",
        "spacy_nlp.pipe_names\n",
        "\n",
        "sample = df.iloc[2]['content']\n",
        "print(sample[:512])\n",
        "\n",
        "#create Spacy object and run NLP pipeline\n",
        "doc = spacy_nlp(sample)\n",
        "\n",
        "#before\n",
        "tokens = [token.text for token in doc]\n",
        "print(tokens[:25])"
      ],
      "execution_count": 24,
      "outputs": [
        {
          "output_type": "stream",
          "text": [
            "[SINGAPORE] Royal Dutch Shell said on Tuesday that its refinery-petrochemical complex on Bukom Island in Singapore encountered \"an unplanned operational disruption\" last week\"We can confirm there was flaring at the Pulau Bukom Manufacturing Site on October 24,\" a company spokeswoman said in an e-mail. Flaring is a major safety device used to keep the plant safe during unplanned operational disruptions, she added.Shell declined to say which unit was affected. Bukom is the largest wholly owned Shell refinery \n",
            "['[', 'SINGAPORE', ']', 'Royal', 'Dutch', 'Shell', 'said', 'on', 'Tuesday', 'that', 'its', 'refinery', '-', 'petrochemical', 'complex', 'on', 'Bukom', 'Island', 'in', 'Singapore', 'encountered', '\"', 'an', 'unplanned', 'operational']\n"
          ],
          "name": "stdout"
        }
      ]
    },
    {
      "cell_type": "code",
      "metadata": {
        "id": "MZr8XvDiTKHk",
        "colab_type": "code",
        "colab": {
          "base_uri": "https://localhost:8080/",
          "height": 54
        },
        "outputId": "53517943-83a4-47d2-d846-0973d4895fa1"
      },
      "source": [
        "#after \n",
        "tokens = [token.lemma_ for token in doc if not token.is_stop]\n",
        "print(tokens[:25])"
      ],
      "execution_count": 25,
      "outputs": [
        {
          "output_type": "stream",
          "text": [
            "['[', 'SINGAPORE', ']', 'Royal', 'Dutch', 'Shell', 'say', 'Tuesday', 'refinery', '-', 'petrochemical', 'complex', 'Bukom', 'Island', 'Singapore', 'encounter', '\"', 'unplanned', 'operational', 'disruption', '\"', 'week\"we', 'confirm', 'flare', 'Pulau']\n"
          ],
          "name": "stdout"
        }
      ]
    },
    {
      "cell_type": "code",
      "metadata": {
        "id": "xkBiXmSqtsbG",
        "colab_type": "code",
        "colab": {
          "base_uri": "https://localhost:8080/",
          "height": 54
        },
        "outputId": "527fcb95-945d-424c-b1df-94eb9d4364b6"
      },
      "source": [
        "#noun chunks\n",
        "chunks = [chunk.text for chunk in doc.noun_chunks]\n",
        "print(chunks[3:15])"
      ],
      "execution_count": 26,
      "outputs": [
        {
          "output_type": "stream",
          "text": [
            "['its refinery-petrochemical complex', 'Bukom Island', 'Singapore', '\"an unplanned operational disruption', '\" last week\"We', 'the Pulau Bukom Manufacturing Site', 'October', '\" a company spokeswoman', 'an e-mail', 'a major safety device', 'the plant', 'unplanned operational disruptions']\n"
          ],
          "name": "stdout"
        }
      ]
    },
    {
      "cell_type": "code",
      "metadata": {
        "id": "Y8IDSl5Rt7qC",
        "colab_type": "code",
        "colab": {
          "base_uri": "https://localhost:8080/",
          "height": 136
        },
        "outputId": "1d7f319e-15ff-4cb3-a308-ea3131f9551f"
      },
      "source": [
        "#sentenciser \n",
        "sentences = [sent.string.strip() for sent in doc.sents]\n",
        "pprint.pprint(sentences[:3])"
      ],
      "execution_count": 27,
      "outputs": [
        {
          "output_type": "stream",
          "text": [
            "['[SINGAPORE]',\n",
            " 'Royal Dutch Shell said on Tuesday that its refinery-petrochemical complex on '\n",
            " 'Bukom Island in Singapore encountered \"an unplanned operational disruption\" '\n",
            " 'last week\"We can confirm there was flaring at the Pulau Bukom Manufacturing '\n",
            " 'Site on October 24,\" a company spokeswoman said in an e-mail.',\n",
            " 'Flaring is a major safety device used to keep the plant safe during '\n",
            " 'unplanned operational disruptions, she added.']\n"
          ],
          "name": "stdout"
        }
      ]
    },
    {
      "cell_type": "code",
      "metadata": {
        "id": "7kMTWqt-uIPM",
        "colab_type": "code",
        "colab": {
          "base_uri": "https://localhost:8080/",
          "height": 255
        },
        "outputId": "a95b70c9-edda-4645-92c0-08d4cd640b98"
      },
      "source": [
        "#Named-entity Recognition (NER)\n",
        "\n",
        "NER_labels = [(X.text, X.label_, spacy.explain(X.label_)) for X in doc.ents]\n",
        "NER_labels[:10]"
      ],
      "execution_count": 28,
      "outputs": [
        {
          "output_type": "execute_result",
          "data": {
            "text/plain": [
              "[('SINGAPORE', 'GPE', 'Countries, cities, states'),\n",
              " ('Royal Dutch Shell', 'ORG', 'Companies, agencies, institutions, etc.'),\n",
              " ('Tuesday', 'DATE', 'Absolute or relative dates or periods'),\n",
              " ('Bukom Island',\n",
              "  'LOC',\n",
              "  'Non-GPE locations, mountain ranges, bodies of water'),\n",
              " ('Singapore', 'GPE', 'Countries, cities, states'),\n",
              " ('the Pulau Bukom Manufacturing Site',\n",
              "  'ORG',\n",
              "  'Companies, agencies, institutions, etc.'),\n",
              " ('October 24', 'DATE', 'Absolute or relative dates or periods'),\n",
              " ('Shell', 'ORG', 'Companies, agencies, institutions, etc.'),\n",
              " ('Bukom', 'PERSON', 'People, including fictional'),\n",
              " ('Shell', 'ORG', 'Companies, agencies, institutions, etc.')]"
            ]
          },
          "metadata": {
            "tags": []
          },
          "execution_count": 28
        }
      ]
    },
    {
      "cell_type": "code",
      "metadata": {
        "id": "UfFG7r9VuZQC",
        "colab_type": "code",
        "colab": {
          "base_uri": "https://localhost:8080/",
          "height": 262
        },
        "outputId": "668487a4-47db-4033-d352-0b45e19a4cd8"
      },
      "source": [
        "#highlights named entities in a document\n",
        "displacy.render(scalpy_nlp(str(sentences[:13])), jupyter=True, style='ent')"
      ],
      "execution_count": 30,
      "outputs": [
        {
          "output_type": "display_data",
          "data": {
            "text/html": [
              "<div class=\"entities\" style=\"line-height: 2.5; direction: ltr\">['[\n",
              "<mark class=\"entity\" style=\"background: #feca74; padding: 0.45em 0.6em; margin: 0 0.25em; line-height: 1; border-radius: 0.35em; box-decoration-break: clone; -webkit-box-decoration-break: clone\">\n",
              "    SINGAPORE\n",
              "    <span style=\"font-size: 0.8em; font-weight: bold; line-height: 1; border-radius: 0.35em; text-transform: uppercase; vertical-align: middle; margin-left: 0.5rem\">GPE</span>\n",
              "</mark>\n",
              "]', '\n",
              "<mark class=\"entity\" style=\"background: #7aecec; padding: 0.45em 0.6em; margin: 0 0.25em; line-height: 1; border-radius: 0.35em; box-decoration-break: clone; -webkit-box-decoration-break: clone\">\n",
              "    Royal Dutch Shell\n",
              "    <span style=\"font-size: 0.8em; font-weight: bold; line-height: 1; border-radius: 0.35em; text-transform: uppercase; vertical-align: middle; margin-left: 0.5rem\">ORG</span>\n",
              "</mark>\n",
              " said on \n",
              "<mark class=\"entity\" style=\"background: #bfe1d9; padding: 0.45em 0.6em; margin: 0 0.25em; line-height: 1; border-radius: 0.35em; box-decoration-break: clone; -webkit-box-decoration-break: clone\">\n",
              "    Tuesday\n",
              "    <span style=\"font-size: 0.8em; font-weight: bold; line-height: 1; border-radius: 0.35em; text-transform: uppercase; vertical-align: middle; margin-left: 0.5rem\">DATE</span>\n",
              "</mark>\n",
              " that its refinery-petrochemical complex on \n",
              "<mark class=\"entity\" style=\"background: #ff9561; padding: 0.45em 0.6em; margin: 0 0.25em; line-height: 1; border-radius: 0.35em; box-decoration-break: clone; -webkit-box-decoration-break: clone\">\n",
              "    Bukom Island\n",
              "    <span style=\"font-size: 0.8em; font-weight: bold; line-height: 1; border-radius: 0.35em; text-transform: uppercase; vertical-align: middle; margin-left: 0.5rem\">LOC</span>\n",
              "</mark>\n",
              " in \n",
              "<mark class=\"entity\" style=\"background: #feca74; padding: 0.45em 0.6em; margin: 0 0.25em; line-height: 1; border-radius: 0.35em; box-decoration-break: clone; -webkit-box-decoration-break: clone\">\n",
              "    Singapore\n",
              "    <span style=\"font-size: 0.8em; font-weight: bold; line-height: 1; border-radius: 0.35em; text-transform: uppercase; vertical-align: middle; margin-left: 0.5rem\">GPE</span>\n",
              "</mark>\n",
              " encountered &quot;an unplanned operational disruption&quot; last week&quot;We can confirm there was flaring at \n",
              "<mark class=\"entity\" style=\"background: #7aecec; padding: 0.45em 0.6em; margin: 0 0.25em; line-height: 1; border-radius: 0.35em; box-decoration-break: clone; -webkit-box-decoration-break: clone\">\n",
              "    the Pulau Bukom Manufacturing Site\n",
              "    <span style=\"font-size: 0.8em; font-weight: bold; line-height: 1; border-radius: 0.35em; text-transform: uppercase; vertical-align: middle; margin-left: 0.5rem\">ORG</span>\n",
              "</mark>\n",
              " on \n",
              "<mark class=\"entity\" style=\"background: #bfe1d9; padding: 0.45em 0.6em; margin: 0 0.25em; line-height: 1; border-radius: 0.35em; box-decoration-break: clone; -webkit-box-decoration-break: clone\">\n",
              "    October 24\n",
              "    <span style=\"font-size: 0.8em; font-weight: bold; line-height: 1; border-radius: 0.35em; text-transform: uppercase; vertical-align: middle; margin-left: 0.5rem\">DATE</span>\n",
              "</mark>\n",
              ",&quot; a company spokeswoman said in an e-mail.', 'Flaring is a major safety device used to keep the plant safe during unplanned operational disruptions, she added.', '\n",
              "<mark class=\"entity\" style=\"background: #7aecec; padding: 0.45em 0.6em; margin: 0 0.25em; line-height: 1; border-radius: 0.35em; box-decoration-break: clone; -webkit-box-decoration-break: clone\">\n",
              "    Shell\n",
              "    <span style=\"font-size: 0.8em; font-weight: bold; line-height: 1; border-radius: 0.35em; text-transform: uppercase; vertical-align: middle; margin-left: 0.5rem\">ORG</span>\n",
              "</mark>\n",
              " declined to say which unit was affected.', &quot;\n",
              "<mark class=\"entity\" style=\"background: #aa9cfc; padding: 0.45em 0.6em; margin: 0 0.25em; line-height: 1; border-radius: 0.35em; box-decoration-break: clone; -webkit-box-decoration-break: clone\">\n",
              "    Bukom\n",
              "    <span style=\"font-size: 0.8em; font-weight: bold; line-height: 1; border-radius: 0.35em; text-transform: uppercase; vertical-align: middle; margin-left: 0.5rem\">PERSON</span>\n",
              "</mark>\n",
              " is the largest wholly owned \n",
              "<mark class=\"entity\" style=\"background: #7aecec; padding: 0.45em 0.6em; margin: 0 0.25em; line-height: 1; border-radius: 0.35em; box-decoration-break: clone; -webkit-box-decoration-break: clone\">\n",
              "    Shell\n",
              "    <span style=\"font-size: 0.8em; font-weight: bold; line-height: 1; border-radius: 0.35em; text-transform: uppercase; vertical-align: middle; margin-left: 0.5rem\">ORG</span>\n",
              "</mark>\n",
              " refinery globally in terms of crude distillation capacity at \n",
              "<mark class=\"entity\" style=\"background: #e4e7d2; padding: 0.45em 0.6em; margin: 0 0.25em; line-height: 1; border-radius: 0.35em; box-decoration-break: clone; -webkit-box-decoration-break: clone\">\n",
              "    500,000 barrels\n",
              "    <span style=\"font-size: 0.8em; font-weight: bold; line-height: 1; border-radius: 0.35em; text-transform: uppercase; vertical-align: middle; margin-left: 0.5rem\">QUANTITY</span>\n",
              "</mark>\n",
              " per day, according to the company's website.&quot;, 'REUTERS[BUSAN]', 'While \n",
              "<mark class=\"entity\" style=\"background: #feca74; padding: 0.45em 0.6em; margin: 0 0.25em; line-height: 1; border-radius: 0.35em; box-decoration-break: clone; -webkit-box-decoration-break: clone\">\n",
              "    Singapore\n",
              "    <span style=\"font-size: 0.8em; font-weight: bold; line-height: 1; border-radius: 0.35em; text-transform: uppercase; vertical-align: middle; margin-left: 0.5rem\">GPE</span>\n",
              "</mark>\n",
              " and \n",
              "<mark class=\"entity\" style=\"background: #feca74; padding: 0.45em 0.6em; margin: 0 0.25em; line-height: 1; border-radius: 0.35em; box-decoration-break: clone; -webkit-box-decoration-break: clone\">\n",
              "    South Korea\n",
              "    <span style=\"font-size: 0.8em; font-weight: bold; line-height: 1; border-radius: 0.35em; text-transform: uppercase; vertical-align: middle; margin-left: 0.5rem\">GPE</span>\n",
              "</mark>\n",
              " enjoy regular high-level and cultural exchanges, both countries can ramp up...', '[\n",
              "<mark class=\"entity\" style=\"background: #feca74; padding: 0.45em 0.6em; margin: 0 0.25em; line-height: 1; border-radius: 0.35em; box-decoration-break: clone; -webkit-box-decoration-break: clone\">\n",
              "    TOKYO\n",
              "    <span style=\"font-size: 0.8em; font-weight: bold; line-height: 1; border-radius: 0.35em; text-transform: uppercase; vertical-align: middle; margin-left: 0.5rem\">GPE</span>\n",
              "</mark>\n",
              "]', '\n",
              "<mark class=\"entity\" style=\"background: #c887fb; padding: 0.45em 0.6em; margin: 0 0.25em; line-height: 1; border-radius: 0.35em; box-decoration-break: clone; -webkit-box-decoration-break: clone\">\n",
              "    South Korean\n",
              "    <span style=\"font-size: 0.8em; font-weight: bold; line-height: 1; border-radius: 0.35em; text-transform: uppercase; vertical-align: middle; margin-left: 0.5rem\">NORP</span>\n",
              "</mark>\n",
              " Foreign Minister \n",
              "<mark class=\"entity\" style=\"background: #aa9cfc; padding: 0.45em 0.6em; margin: 0 0.25em; line-height: 1; border-radius: 0.35em; box-decoration-break: clone; -webkit-box-decoration-break: clone\">\n",
              "    Kang Kyung-wha\n",
              "    <span style=\"font-size: 0.8em; font-weight: bold; line-height: 1; border-radius: 0.35em; text-transform: uppercase; vertical-align: middle; margin-left: 0.5rem\">PERSON</span>\n",
              "</mark>\n",
              " is set to meet her \n",
              "<mark class=\"entity\" style=\"background: #c887fb; padding: 0.45em 0.6em; margin: 0 0.25em; line-height: 1; border-radius: 0.35em; box-decoration-break: clone; -webkit-box-decoration-break: clone\">\n",
              "    Japanese\n",
              "    <span style=\"font-size: 0.8em; font-weight: bold; line-height: 1; border-radius: 0.35em; text-transform: uppercase; vertical-align: middle; margin-left: 0.5rem\">NORP</span>\n",
              "</mark>\n",
              " counterpart \n",
              "<mark class=\"entity\" style=\"background: #bfe1d9; padding: 0.45em 0.6em; margin: 0 0.25em; line-height: 1; border-radius: 0.35em; box-decoration-break: clone; -webkit-box-decoration-break: clone\">\n",
              "    Saturday\n",
              "    <span style=\"font-size: 0.8em; font-weight: bold; line-height: 1; border-radius: 0.35em; text-transform: uppercase; vertical-align: middle; margin-left: 0.5rem\">DATE</span>\n",
              "</mark>\n",
              ", \n",
              "<mark class=\"entity\" style=\"background: #e4e7d2; padding: 0.45em 0.6em; margin: 0 0.25em; line-height: 1; border-radius: 0.35em; box-decoration-break: clone; -webkit-box-decoration-break: clone\">\n",
              "    less than 24\n",
              "    <span style=\"font-size: 0.8em; font-weight: bold; line-height: 1; border-radius: 0.35em; text-transform: uppercase; vertical-align: middle; margin-left: 0.5rem\">CARDINAL</span>\n",
              "</mark>\n",
              "...', '[SINGAPORE]', '\n",
              "<mark class=\"entity\" style=\"background: #feca74; padding: 0.45em 0.6em; margin: 0 0.25em; line-height: 1; border-radius: 0.35em; box-decoration-break: clone; -webkit-box-decoration-break: clone\">\n",
              "    Singapore\n",
              "    <span style=\"font-size: 0.8em; font-weight: bold; line-height: 1; border-radius: 0.35em; text-transform: uppercase; vertical-align: middle; margin-left: 0.5rem\">GPE</span>\n",
              "</mark>\n",
              " has signed a memorandum of understanding (\n",
              "<mark class=\"entity\" style=\"background: #7aecec; padding: 0.45em 0.6em; margin: 0 0.25em; line-height: 1; border-radius: 0.35em; box-decoration-break: clone; -webkit-box-decoration-break: clone\">\n",
              "    MOU\n",
              "    <span style=\"font-size: 0.8em; font-weight: bold; line-height: 1; border-radius: 0.35em; text-transform: uppercase; vertical-align: middle; margin-left: 0.5rem\">ORG</span>\n",
              "</mark>\n",
              ") with \n",
              "<mark class=\"entity\" style=\"background: #feca74; padding: 0.45em 0.6em; margin: 0 0.25em; line-height: 1; border-radius: 0.35em; box-decoration-break: clone; -webkit-box-decoration-break: clone\">\n",
              "    South Korea\n",
              "    <span style=\"font-size: 0.8em; font-weight: bold; line-height: 1; border-radius: 0.35em; text-transform: uppercase; vertical-align: middle; margin-left: 0.5rem\">GPE</span>\n",
              "</mark>\n",
              " to enhance cooperation and...', '[\n",
              "<mark class=\"entity\" style=\"background: #feca74; padding: 0.45em 0.6em; margin: 0 0.25em; line-height: 1; border-radius: 0.35em; box-decoration-break: clone; -webkit-box-decoration-break: clone\">\n",
              "    JERUSALEM\n",
              "    <span style=\"font-size: 0.8em; font-weight: bold; line-height: 1; border-radius: 0.35em; text-transform: uppercase; vertical-align: middle; margin-left: 0.5rem\">GPE</span>\n",
              "</mark>\n",
              "]', 'Secret recordings, powerful media moguls, illicit gifts of cigars and champagne, betrayals by trusted...']</div>"
            ],
            "text/plain": [
              "<IPython.core.display.HTML object>"
            ]
          },
          "metadata": {
            "tags": []
          }
        }
      ]
    },
    {
      "cell_type": "markdown",
      "metadata": {
        "id": "TxZRrY71vCj5",
        "colab_type": "text"
      },
      "source": [
        "# Named-entity Recognition\n",
        "\n",
        "Apply NER to all articles:\n",
        "We pass the concatenated string directly into spaCy to create a spaCy object on which to perform further NER analysis."
      ]
    },
    {
      "cell_type": "code",
      "metadata": {
        "id": "CxpAPWs4useE",
        "colab_type": "code",
        "colab": {
          "base_uri": "https://localhost:8080/",
          "height": 187
        },
        "outputId": "b6840155-28cf-47d4-e81d-363ef786225c"
      },
      "source": [
        "# concatenate all rows of dataframe\n",
        "whole = spacy_nlp(df.content.str.cat(sep=' '))\n",
        "\n",
        "#categories and number of occurences \n",
        "labels = [spacy.explain(x.label_) for x in whole.ents]\n",
        "Counter(labels)\n",
        "\n",
        "#most frequent named entities\n",
        "items = [x.text for x in whole.ents]\n",
        "Counter(items).most_common(10)\n",
        "\n",
        "#apply lemmatisation + stopword to remove all words; show the most frequent\n",
        "words = [token.lemma_ for token in whole.doc if token.is_stop != True\n",
        "         and token.is_punct != True]\n",
        "Counter(words).most_common(10)"
      ],
      "execution_count": 37,
      "outputs": [
        {
          "output_type": "execute_result",
          "data": {
            "text/plain": [
              "[('Shell', 67),\n",
              " ('say', 53),\n",
              " ('Singapore', 39),\n",
              " ('year', 35),\n",
              " ('oil', 34),\n",
              " ('company', 34),\n",
              " ('South', 33),\n",
              " ('Korea', 32),\n",
              " ('cent', 31),\n",
              " ('billion', 29)]"
            ]
          },
          "metadata": {
            "tags": []
          },
          "execution_count": 37
        }
      ]
    },
    {
      "cell_type": "markdown",
      "metadata": {
        "id": "zaqDch_Uww9b",
        "colab_type": "text"
      },
      "source": [
        "# Sentiment Algorithms\n",
        "\n",
        "Out-of-the-box algorithms that come with TextBlob and NLTK packages "
      ]
    },
    {
      "cell_type": "code",
      "metadata": {
        "id": "i6K5BnF0x6Qw",
        "colab_type": "code",
        "colab": {
          "base_uri": "https://localhost:8080/",
          "height": 105
        },
        "outputId": "b0cc98a1-19a1-4d0e-9c67-a12fbbf4cf18"
      },
      "source": [
        "!pip install dictionaries"
      ],
      "execution_count": 45,
      "outputs": [
        {
          "output_type": "stream",
          "text": [
            "Collecting dictionaries\n",
            "  Downloading https://files.pythonhosted.org/packages/4d/54/b45e79bcfb116b7f946cb91f3955618b01a1f80dc0ee85da0d68fcc5f318/dictionaries-0.0.1-py2.py3-none-any.whl\n",
            "Installing collected packages: dictionaries\n",
            "Successfully installed dictionaries-0.0.1\n"
          ],
          "name": "stdout"
        }
      ]
    },
    {
      "cell_type": "code",
      "metadata": {
        "id": "gXn4Yu3Zw8L1",
        "colab_type": "code",
        "colab": {
          "base_uri": "https://localhost:8080/",
          "height": 51
        },
        "outputId": "b2a7a707-5f17-401a-c9d9-7557c9dade3d"
      },
      "source": [
        "from textblob import TextBlob\n",
        "\n",
        "import nltk\n",
        "from nltk.sentiment.vader import SentimentIntensityAnalyzer\n",
        "from nltk.tag.perceptron import PerceptronTagger\n",
        "from nltk.corpus import wordnet as wn\n",
        "from nltk.corpus import sentiwordnet as swn\n",
        "\n",
        "nltk.download('vader_lexicon')\n",
        "sia = SentimentIntensityAnalyzer()\n",
        "\n",
        "import dictionaries "
      ],
      "execution_count": 49,
      "outputs": [
        {
          "output_type": "stream",
          "text": [
            "[nltk_data] Downloading package vader_lexicon to /root/nltk_data...\n",
            "[nltk_data]   Package vader_lexicon is already up-to-date!\n"
          ],
          "name": "stdout"
        }
      ]
    },
    {
      "cell_type": "code",
      "metadata": {
        "id": "yIoF8mi0xch9",
        "colab_type": "code",
        "colab": {
          "base_uri": "https://localhost:8080/",
          "height": 289
        },
        "outputId": "91f2b5ac-38da-46c6-edd8-49d79366a789"
      },
      "source": [
        "df['spacy_tokens'] = df['content'].apply(spacy_nlp)\n",
        "\n",
        "def spacy_lemma_stopwords(text):\n",
        "  return [token.lemma_ for token in text if not token.is_stop]\n",
        "\n",
        "spacy_process = lambda x: spacy_lemma_stopwords(x)\n",
        "df['spacy_processed'] = df.spacy_tokens.apply(spacy_process)\n",
        "\n",
        "def spacy_to_string(text):\n",
        "  return ' '.join(text)\n",
        "\n",
        "spacy_to_str = lambda x: spacy_to_string(x)\n",
        "df['spacy_string'] = df.spacy_processed.apply(spacy_to_str)\n",
        "\n",
        "#apply sentiment algorithms\n",
        "TB = lambda x: round(TextBlob(x).sentiment.polarity, 3)\n",
        "NLTK = lambda x: round(sia.polarity_scores(x)['compound'], 3)\n",
        "\n",
        "df['TextBlob_spacy'] = df.spacy_string.apply(TB)\n",
        "df['NLTK_spacy'] = df.spacy_string.apply(NLTK)\n",
        "\n",
        "df.head()"
      ],
      "execution_count": 54,
      "outputs": [
        {
          "output_type": "execute_result",
          "data": {
            "text/html": [
              "<div>\n",
              "<style scoped>\n",
              "    .dataframe tbody tr th:only-of-type {\n",
              "        vertical-align: middle;\n",
              "    }\n",
              "\n",
              "    .dataframe tbody tr th {\n",
              "        vertical-align: top;\n",
              "    }\n",
              "\n",
              "    .dataframe thead th {\n",
              "        text-align: right;\n",
              "    }\n",
              "</style>\n",
              "<table border=\"1\" class=\"dataframe\">\n",
              "  <thead>\n",
              "    <tr style=\"text-align: right;\">\n",
              "      <th></th>\n",
              "      <th>content</th>\n",
              "      <th>spacy_tokens</th>\n",
              "      <th>spacy_processed</th>\n",
              "      <th>spacy_string</th>\n",
              "      <th>TextBlob_spacy</th>\n",
              "      <th>NLTK_spacy</th>\n",
              "    </tr>\n",
              "  </thead>\n",
              "  <tbody>\n",
              "    <tr>\n",
              "      <th>2019-11-03</th>\n",
              "      <td>SingaporeSEMBCORP Marine Rigs &amp; Floaters has w...</td>\n",
              "      <td>(SingaporeSEMBCORP, Marine, Rigs, &amp;, Floaters,...</td>\n",
              "      <td>[SingaporeSEMBCORP, Marine, Rigs, &amp;, Floaters,...</td>\n",
              "      <td>SingaporeSEMBCORP Marine Rigs &amp; Floaters win c...</td>\n",
              "      <td>0.153</td>\n",
              "      <td>0.949</td>\n",
              "    </tr>\n",
              "    <tr>\n",
              "      <th>2019-11-02</th>\n",
              "      <td>SEMBCORP Marine Rigs &amp; Floaters has won a cont...</td>\n",
              "      <td>(SEMBCORP, Marine, Rigs, &amp;, Floaters, has, won...</td>\n",
              "      <td>[SEMBCORP, Marine, Rigs, &amp;, Floaters, win, con...</td>\n",
              "      <td>SEMBCORP Marine Rigs &amp; Floaters win contract S...</td>\n",
              "      <td>0.025</td>\n",
              "      <td>0.989</td>\n",
              "    </tr>\n",
              "    <tr>\n",
              "      <th>2019-10-30</th>\n",
              "      <td>[SINGAPORE] Royal Dutch Shell said on Tuesday ...</td>\n",
              "      <td>([, SINGAPORE, ], Royal, Dutch, Shell, said, o...</td>\n",
              "      <td>[[, SINGAPORE, ], Royal, Dutch, Shell, say, Tu...</td>\n",
              "      <td>[ SINGAPORE ] Royal Dutch Shell say Tuesday re...</td>\n",
              "      <td>0.078</td>\n",
              "      <td>0.765</td>\n",
              "    </tr>\n",
              "    <tr>\n",
              "      <th>2019-10-24</th>\n",
              "      <td>[WASHINGTON] The US House of Representatives o...</td>\n",
              "      <td>([, WASHINGTON, ], The, US, House, of, Represe...</td>\n",
              "      <td>[[, WASHINGTON, ], House, Representatives, Tue...</td>\n",
              "      <td>[ WASHINGTON ] House Representatives Tuesday a...</td>\n",
              "      <td>-0.031</td>\n",
              "      <td>-0.980</td>\n",
              "    </tr>\n",
              "    <tr>\n",
              "      <th>2019-10-16</th>\n",
              "      <td>SINGAPORE’S sovereign wealth fund GIC and priv...</td>\n",
              "      <td>(SINGAPORE, ’S, sovereign, wealth, fund, GIC, ...</td>\n",
              "      <td>[SINGAPORE, ’s, sovereign, wealth, fund, GIC, ...</td>\n",
              "      <td>SINGAPORE ’s sovereign wealth fund GIC private...</td>\n",
              "      <td>0.072</td>\n",
              "      <td>0.994</td>\n",
              "    </tr>\n",
              "  </tbody>\n",
              "</table>\n",
              "</div>"
            ],
            "text/plain": [
              "                                                      content  ... NLTK_spacy\n",
              "2019-11-03  SingaporeSEMBCORP Marine Rigs & Floaters has w...  ...      0.949\n",
              "2019-11-02  SEMBCORP Marine Rigs & Floaters has won a cont...  ...      0.989\n",
              "2019-10-30  [SINGAPORE] Royal Dutch Shell said on Tuesday ...  ...      0.765\n",
              "2019-10-24  [WASHINGTON] The US House of Representatives o...  ...     -0.980\n",
              "2019-10-16  SINGAPORE’S sovereign wealth fund GIC and priv...  ...      0.994\n",
              "\n",
              "[5 rows x 6 columns]"
            ]
          },
          "metadata": {
            "tags": []
          },
          "execution_count": 54
        }
      ]
    },
    {
      "cell_type": "markdown",
      "metadata": {
        "id": "Hce2SRjr7Dqd",
        "colab_type": "text"
      },
      "source": [
        "# Visualising Scores and Comparing results\n",
        "\n"
      ]
    },
    {
      "cell_type": "code",
      "metadata": {
        "id": "T3_nHp7a5lnX",
        "colab_type": "code",
        "colab": {
          "base_uri": "https://localhost:8080/",
          "height": 902
        },
        "outputId": "26783eed-bb0b-4a70-d116-0b6d0da0271c"
      },
      "source": [
        "# layout and design params\n",
        "sns.set(style='white', palette='muted', color_codes=True)\n",
        "\n",
        "#bar plot with sentiment over time\n",
        "plt.figure(figsize=(12,7))\n",
        "ax = sns.distplot(df.NLTK_spacy, bins=15, kde=False)\n",
        "ax2 = sns.distplot(df.TextBlob_spacy, bins=15, kde=False)\n",
        "plt.title('sentiment algos - histogram comparision', fontsize=18)\n",
        "ax.set_xlim(-1,1)\n",
        "sns.despine()\n",
        "\n",
        "#PDF of sentiment distribution\n",
        "plt.figure(figsize=(12,7))\n",
        "ax = sns.kdeplot(df.NLTK_spacy)\n",
        "ax2 = sns.kdeplot(df.TextBlob_spacy)\n",
        "plt.title('Sentiment algorithms - probability density functions', fontsize=18)\n",
        "sns.despine()"
      ],
      "execution_count": 57,
      "outputs": [
        {
          "output_type": "display_data",
          "data": {
            "image/png": "[encoded data removed]",
            "text/plain": [
              "<Figure size 864x504 with 1 Axes>"
            ]
          },
          "metadata": {
            "tags": []
          }
        },
        {
          "output_type": "display_data",
          "data": {
            "image/png": "[encoded data removed]",
            "text/plain": [
              "<Figure size 864x504 with 1 Axes>"
            ]
          },
          "metadata": {
            "tags": []
          }
        }
      ]
    },
    {
      "cell_type": "code",
      "metadata": {
        "id": "SrObYn6O95AZ",
        "colab_type": "code",
        "colab": {}
      },
      "source": [
        ""
      ],
      "execution_count": 0,
      "outputs": []
    }
  ]
}